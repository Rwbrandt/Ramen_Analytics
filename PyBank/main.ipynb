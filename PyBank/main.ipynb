{
 "cells": [
  {
   "cell_type": "code",
   "execution_count": 160,
   "id": "559a0985-b0f2-4d90-86ba-1f9c06cf39e4",
   "metadata": {},
   "outputs": [],
   "source": [
    "#import pandas library\n",
    "import pandas as pd\n",
    "from pathlib import Path"
   ]
  },
  {
   "cell_type": "code",
   "execution_count": 161,
   "id": "5ca1a719-d741-4d39-8634-09d7ca9818c9",
   "metadata": {},
   "outputs": [
    {
     "data": {
      "text/html": [
       "<div>\n",
       "<style scoped>\n",
       "    .dataframe tbody tr th:only-of-type {\n",
       "        vertical-align: middle;\n",
       "    }\n",
       "\n",
       "    .dataframe tbody tr th {\n",
       "        vertical-align: top;\n",
       "    }\n",
       "\n",
       "    .dataframe thead th {\n",
       "        text-align: right;\n",
       "    }\n",
       "</style>\n",
       "<table border=\"1\" class=\"dataframe\">\n",
       "  <thead>\n",
       "    <tr style=\"text-align: right;\">\n",
       "      <th></th>\n",
       "      <th>Profit/Losses</th>\n",
       "    </tr>\n",
       "    <tr>\n",
       "      <th>Date</th>\n",
       "      <th></th>\n",
       "    </tr>\n",
       "  </thead>\n",
       "  <tbody>\n",
       "    <tr>\n",
       "      <th>Jan-2010</th>\n",
       "      <td>867884</td>\n",
       "    </tr>\n",
       "    <tr>\n",
       "      <th>Feb-2010</th>\n",
       "      <td>984655</td>\n",
       "    </tr>\n",
       "    <tr>\n",
       "      <th>Mar-2010</th>\n",
       "      <td>322013</td>\n",
       "    </tr>\n",
       "    <tr>\n",
       "      <th>Apr-2010</th>\n",
       "      <td>-69417</td>\n",
       "    </tr>\n",
       "    <tr>\n",
       "      <th>May-2010</th>\n",
       "      <td>310503</td>\n",
       "    </tr>\n",
       "    <tr>\n",
       "      <th>Jun-2010</th>\n",
       "      <td>522857</td>\n",
       "    </tr>\n",
       "    <tr>\n",
       "      <th>Jul-2010</th>\n",
       "      <td>1033096</td>\n",
       "    </tr>\n",
       "    <tr>\n",
       "      <th>Aug-2010</th>\n",
       "      <td>604885</td>\n",
       "    </tr>\n",
       "    <tr>\n",
       "      <th>Sep-2010</th>\n",
       "      <td>-216386</td>\n",
       "    </tr>\n",
       "    <tr>\n",
       "      <th>Oct-2010</th>\n",
       "      <td>477532</td>\n",
       "    </tr>\n",
       "  </tbody>\n",
       "</table>\n",
       "</div>"
      ],
      "text/plain": [
       "          Profit/Losses\n",
       "Date                   \n",
       "Jan-2010         867884\n",
       "Feb-2010         984655\n",
       "Mar-2010         322013\n",
       "Apr-2010         -69417\n",
       "May-2010         310503\n",
       "Jun-2010         522857\n",
       "Jul-2010        1033096\n",
       "Aug-2010         604885\n",
       "Sep-2010        -216386\n",
       "Oct-2010         477532"
      ]
     },
     "execution_count": 161,
     "metadata": {},
     "output_type": "execute_result"
    }
   ],
   "source": [
    "#create and check filepath, set the index to dates\n",
    "csvpath = Path(\"budget_data.csv\")\n",
    "main_df = pd.read_csv(csvpath)\n",
    "main_df.set_index(('Date'), inplace=True)\n",
    "main_df.head(10)"
   ]
  },
  {
   "cell_type": "code",
   "execution_count": 162,
   "id": "218d38b0-b099-49c0-b4f2-4becb3e2cfdd",
   "metadata": {
    "tags": []
   },
   "outputs": [
    {
     "data": {
      "text/html": [
       "<div>\n",
       "<style scoped>\n",
       "    .dataframe tbody tr th:only-of-type {\n",
       "        vertical-align: middle;\n",
       "    }\n",
       "\n",
       "    .dataframe tbody tr th {\n",
       "        vertical-align: top;\n",
       "    }\n",
       "\n",
       "    .dataframe thead th {\n",
       "        text-align: right;\n",
       "    }\n",
       "</style>\n",
       "<table border=\"1\" class=\"dataframe\">\n",
       "  <thead>\n",
       "    <tr style=\"text-align: right;\">\n",
       "      <th></th>\n",
       "      <th>Profit/Losses</th>\n",
       "    </tr>\n",
       "  </thead>\n",
       "  <tbody>\n",
       "    <tr>\n",
       "      <th>count</th>\n",
       "      <td>8.600000e+01</td>\n",
       "    </tr>\n",
       "    <tr>\n",
       "      <th>mean</th>\n",
       "      <td>4.463090e+05</td>\n",
       "    </tr>\n",
       "    <tr>\n",
       "      <th>std</th>\n",
       "      <td>5.363579e+05</td>\n",
       "    </tr>\n",
       "    <tr>\n",
       "      <th>min</th>\n",
       "      <td>-1.196225e+06</td>\n",
       "    </tr>\n",
       "    <tr>\n",
       "      <th>25%</th>\n",
       "      <td>1.821620e+05</td>\n",
       "    </tr>\n",
       "    <tr>\n",
       "      <th>50%</th>\n",
       "      <td>5.703280e+05</td>\n",
       "    </tr>\n",
       "    <tr>\n",
       "      <th>75%</th>\n",
       "      <td>7.952262e+05</td>\n",
       "    </tr>\n",
       "    <tr>\n",
       "      <th>max</th>\n",
       "      <td>1.170593e+06</td>\n",
       "    </tr>\n",
       "  </tbody>\n",
       "</table>\n",
       "</div>"
      ],
      "text/plain": [
       "       Profit/Losses\n",
       "count   8.600000e+01\n",
       "mean    4.463090e+05\n",
       "std     5.363579e+05\n",
       "min    -1.196225e+06\n",
       "25%     1.821620e+05\n",
       "50%     5.703280e+05\n",
       "75%     7.952262e+05\n",
       "max     1.170593e+06"
      ]
     },
     "execution_count": 162,
     "metadata": {},
     "output_type": "execute_result"
    }
   ],
   "source": [
    "#Review summary stats of dataframe\n",
    "main_df.describe(include=\"all\")"
   ]
  },
  {
   "cell_type": "code",
   "execution_count": 164,
   "id": "42108feb-37ad-447e-bed5-1b9f96643126",
   "metadata": {},
   "outputs": [
    {
     "data": {
      "text/html": [
       "<div>\n",
       "<style scoped>\n",
       "    .dataframe tbody tr th:only-of-type {\n",
       "        vertical-align: middle;\n",
       "    }\n",
       "\n",
       "    .dataframe tbody tr th {\n",
       "        vertical-align: top;\n",
       "    }\n",
       "\n",
       "    .dataframe thead th {\n",
       "        text-align: right;\n",
       "    }\n",
       "</style>\n",
       "<table border=\"1\" class=\"dataframe\">\n",
       "  <thead>\n",
       "    <tr style=\"text-align: right;\">\n",
       "      <th></th>\n",
       "      <th>Profit/Losses</th>\n",
       "    </tr>\n",
       "    <tr>\n",
       "      <th>Date</th>\n",
       "      <th></th>\n",
       "    </tr>\n",
       "  </thead>\n",
       "  <tbody>\n",
       "    <tr>\n",
       "      <th>Feb-2010</th>\n",
       "      <td>984655</td>\n",
       "    </tr>\n",
       "    <tr>\n",
       "      <th>Mar-2010</th>\n",
       "      <td>322013</td>\n",
       "    </tr>\n",
       "    <tr>\n",
       "      <th>Apr-2010</th>\n",
       "      <td>-69417</td>\n",
       "    </tr>\n",
       "    <tr>\n",
       "      <th>May-2010</th>\n",
       "      <td>310503</td>\n",
       "    </tr>\n",
       "    <tr>\n",
       "      <th>Jun-2010</th>\n",
       "      <td>522857</td>\n",
       "    </tr>\n",
       "    <tr>\n",
       "      <th>...</th>\n",
       "      <td>...</td>\n",
       "    </tr>\n",
       "    <tr>\n",
       "      <th>Oct-2016</th>\n",
       "      <td>102685</td>\n",
       "    </tr>\n",
       "    <tr>\n",
       "      <th>Nov-2016</th>\n",
       "      <td>795914</td>\n",
       "    </tr>\n",
       "    <tr>\n",
       "      <th>Dec-2016</th>\n",
       "      <td>60988</td>\n",
       "    </tr>\n",
       "    <tr>\n",
       "      <th>Jan-2017</th>\n",
       "      <td>138230</td>\n",
       "    </tr>\n",
       "    <tr>\n",
       "      <th>Feb-2017</th>\n",
       "      <td>671099</td>\n",
       "    </tr>\n",
       "  </tbody>\n",
       "</table>\n",
       "<p>85 rows × 1 columns</p>\n",
       "</div>"
      ],
      "text/plain": [
       "          Profit/Losses\n",
       "Date                   \n",
       "Feb-2010         984655\n",
       "Mar-2010         322013\n",
       "Apr-2010         -69417\n",
       "May-2010         310503\n",
       "Jun-2010         522857\n",
       "...                 ...\n",
       "Oct-2016         102685\n",
       "Nov-2016         795914\n",
       "Dec-2016          60988\n",
       "Jan-2017         138230\n",
       "Feb-2017         671099\n",
       "\n",
       "[85 rows x 1 columns]"
      ]
     },
     "execution_count": 164,
     "metadata": {},
     "output_type": "execute_result"
    }
   ],
   "source": [
    "# Utilize drop function to remove the first month to determine the change per month\n",
    "Average_Change_df = main_df.drop(['Jan-2010'])\n",
    "Average_Change_df"
   ]
  },
  {
   "cell_type": "code",
   "execution_count": 165,
   "id": "26326557-1caa-4d64-a612-28e69f72efe7",
   "metadata": {},
   "outputs": [],
   "source": [
    "#Create Variables\n",
    "Total_Months = len(main_df)\n",
    "Total = main_df['Profit/Losses'].sum()\n",
    "Average_Change = round(Average_Change_df['Profit/Losses'].mean(), 2)\n",
    "Greatest_Increase = main_df['Profit/Losses'].max()\n",
    "Greatest_Decrease = main_df['Profit/Losses'].min()"
   ]
  },
  {
   "cell_type": "code",
   "execution_count": 166,
   "id": "472d06e2-8d3d-477b-83be-c419dc273fd8",
   "metadata": {},
   "outputs": [
    {
     "name": "stdout",
     "output_type": "stream",
     "text": [
      "86\n",
      "38382578\n",
      "441349.34\n",
      "1170593\n",
      "-1196225\n"
     ]
    }
   ],
   "source": [
    "#Test Calcuations\n",
    "print(Total_Months)\n",
    "print(Total)\n",
    "print(Average_Change)\n",
    "print(Greatest_Increase)\n",
    "print(Greatest_Decrease)"
   ]
  },
  {
   "cell_type": "code",
   "execution_count": 167,
   "id": "efc1f9c5-3b98-434f-b4bb-dcbe1fb675a6",
   "metadata": {},
   "outputs": [],
   "source": [
    "#Set funtion for giving results\n",
    "def print_results(): \n",
    "    print(\"Financial Analysis\")\n",
    "    print(\"----------------------------\")\n",
    "    print(f\"Total Months: {Total_Months}\")\n",
    "    print(f\"Total: ${Total}\")\n",
    "    print(f\"Average Change: ${Average_Change}\")\n",
    "    print(f\"Greatest Increase in Profits: (${Greatest_Increase})\")\n",
    "    print(f\"Greatest Decrease in Profits: (${Greatest_Decrease})\")"
   ]
  },
  {
   "cell_type": "code",
   "execution_count": 168,
   "id": "b5a68af5-41ed-4efe-8730-0a57f84fc6e8",
   "metadata": {},
   "outputs": [
    {
     "name": "stdout",
     "output_type": "stream",
     "text": [
      "Financial Analysis\n",
      "----------------------------\n",
      "Total Months: 86\n",
      "Total: $38382578\n",
      "Average Change: $441349.34\n",
      "Greatest Increase in Profits: ($1170593)\n",
      "Greatest Decrease in Profits: ($-1196225)\n"
     ]
    }
   ],
   "source": [
    "#Testing Function\n",
    "print_results()"
   ]
  },
  {
   "cell_type": "code",
   "execution_count": 169,
   "id": "7a30e66c-51ac-424b-b9b2-3bd06c0df140",
   "metadata": {},
   "outputs": [],
   "source": [
    "#Export results into a readable text file\n",
    "tfile = open('Results.txt', 'w')\n",
    "tfile.write(\"Financial Analysis\")\n",
    "tfile.write(\"----------------------------\")\n",
    "tfile.write(\"Total Months: 86\")\n",
    "tfile.write(\"Total: $38,382,578\")\n",
    "tfile.write(\"Average Change: $441,349.34\")\n",
    "tfile.write(\"Greatest Increase in Profits: Feb-2012 ($1,170,593)\")\n",
    "tfile.write(\"Greatest Decrease in Profits: Sep-2013 ($-1,196,225)\")\n",
    "tfile.close()"
   ]
  },
  {
   "cell_type": "code",
   "execution_count": null,
   "id": "b1df3034-6b54-42ae-9aec-cb0a0c3899ec",
   "metadata": {},
   "outputs": [],
   "source": []
  }
 ],
 "metadata": {
  "kernelspec": {
   "display_name": "Python 3 (ipykernel)",
   "language": "python",
   "name": "python3"
  },
  "language_info": {
   "codemirror_mode": {
    "name": "ipython",
    "version": 3
   },
   "file_extension": ".py",
   "mimetype": "text/x-python",
   "name": "python",
   "nbconvert_exporter": "python",
   "pygments_lexer": "ipython3",
   "version": "3.8.8"
  }
 },
 "nbformat": 4,
 "nbformat_minor": 5
}
